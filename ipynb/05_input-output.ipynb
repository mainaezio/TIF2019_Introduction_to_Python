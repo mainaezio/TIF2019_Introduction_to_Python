{
 "cells": [
  {
   "cell_type": "markdown",
   "metadata": {},
   "source": [
    "Input e Output\n",
    "================\n",
    "\n",
    "In questa sezione, descriviamo come stampare informazioni, che include l'uso della funzione `print`, la specificazione di format vecchio-stile con `%` e la più recente specificazione di format con `{}`.\n",
    "\n",
    "Stampare sullo standard output (normalmente lo schermo)\n",
    "-------------------------------------------------\n",
    "\n",
    "La funzione `print` è il comando utilizzato più comunemente per stampare informazioni sullo “standard output device” che normalmente è lo schermo.\n",
    "\n",
    "Ci sono due modi per usare print.\n",
    "\n",
    "###  print semplice\n",
    "\n",
    "Il modo più facile di usare il comando `print` è passargli l'elenco delle variabili da stampare separate da un virgola. Qualche esempio:"
   ]
  },
  {
   "cell_type": "code",
   "execution_count": null,
   "metadata": {},
   "outputs": [],
   "source": [
    "a = 10\n",
    "b = 'test text'\n",
    "print(a)"
   ]
  },
  {
   "cell_type": "code",
   "execution_count": null,
   "metadata": {},
   "outputs": [],
   "source": [
    "print(b)"
   ]
  },
  {
   "cell_type": "code",
   "execution_count": null,
   "metadata": {},
   "outputs": [],
   "source": [
    "print(a, b)"
   ]
  },
  {
   "cell_type": "code",
   "execution_count": null,
   "metadata": {},
   "outputs": [],
   "source": [
    "print(\"The answer is\", a)"
   ]
  },
  {
   "cell_type": "code",
   "execution_count": null,
   "metadata": {},
   "outputs": [],
   "source": [
    "print(\"The answer is\", a, \"and the string contains\", b)"
   ]
  },
  {
   "cell_type": "markdown",
   "metadata": {},
   "source": [
    "Python aggiunge uno spazio tra ogni coppia di oggetti che viene stampata.\n",
    "\n",
    "Python va a capo dopo ogni chiamata a print. Per impedirlo, usate il parametro `end=` :"
   ]
  },
  {
   "cell_type": "code",
   "execution_count": null,
   "metadata": {},
   "outputs": [],
   "source": [
    "print(\"Printing in line one\")\n",
    "print(\"...still printing in line one.\")"
   ]
  },
  {
   "cell_type": "markdown",
   "metadata": {},
   "source": [
    "### print formattato \n",
    "\n",
    "Il modo più sofisticato di formattare l'output utilizza una sintassi molto simile a quella di `fprintf`  in Matlab (e quindi simile a quella `printf` del C).\n",
    "\n",
    "La struttura globale si basa su una stringa che contiene le specificazioni di format, seguite dal segno di percento e da una ntupla contenente le variabili da stampare al posto delle specificazioni di format."
   ]
  },
  {
   "cell_type": "code",
   "execution_count": null,
   "metadata": {},
   "outputs": [],
   "source": [
    "print(\"a         = %d b = %x\" % (10,20))"
   ]
  },
  {
   "cell_type": "markdown",
   "metadata": {},
   "source": [
    "Una stringa può contenere delle specificazioni di formato: `%f` per formattare come reale, `%d` per formattare come un intero, `%x` per formattare come un numero esadecimale (Se non li conoscete, cercate in rete cosa sono) e `%s` per formattare come una stringa."
   ]
  },
  {
   "cell_type": "code",
   "execution_count": null,
   "metadata": {},
   "outputs": [],
   "source": [
    "from math import pi\n",
    "print(\"Pi = %5.2f\" % pi)"
   ]
  },
  {
   "cell_type": "code",
   "execution_count": null,
   "metadata": {},
   "outputs": [],
   "source": [
    "print(\"Pi = %10.3f\" % pi)"
   ]
  },
  {
   "cell_type": "code",
   "execution_count": null,
   "metadata": {},
   "outputs": [],
   "source": [
    "print(\"Pi = %10.17f\" % pi)"
   ]
  },
  {
   "cell_type": "code",
   "execution_count": null,
   "metadata": {},
   "outputs": [],
   "source": [
    "print(\"Pi = %d\" % 3.8)"
   ]
  },
  {
   "cell_type": "markdown",
   "metadata": {},
   "source": [
    "Una specificazione di formato del tipo `%W.Df` significa che il numero reale deve essere stampato con una lunghezza totale di `W` caratteri e `D` cifre dopo il punto decimale.\n",
    "\n",
    "Per stampare più di un oggetto si possono fornire più specificazioni di formato e una ntupla di oggetti da stampare:"
   ]
  },
  {
   "cell_type": "code",
   "execution_count": null,
   "metadata": {},
   "outputs": [],
   "source": [
    "print(\"Pi = %3.3f, 142*pi = %10.8f and pi^2 = %17.15f.\" % (pi,142*pi,pi**2))"
   ]
  },
  {
   "cell_type": "markdown",
   "metadata": {},
   "source": [
    "Notate che la conversione di una specificazione di formato e una ntupla di variabili in una stringa non necessita del comando `print`:"
   ]
  },
  {
   "cell_type": "code",
   "execution_count": null,
   "metadata": {},
   "outputs": [],
   "source": [
    "from math import pi\n",
    "\"pi = %f\" % pi"
   ]
  },
  {
   "cell_type": "markdown",
   "metadata": {},
   "source": [
    "Questo significa che possiamo convertire oggetti in stringhe ogni qual volta sia necessario, e che possiamo decidere di stampare le stringhe in un momento successivo – non è necessario che la formattazione sia strettamente accoppiato con il codice che effettua la stampa. In questo caso la stringa formattata deve essere assegnata ad una variabile.\n",
    "\n",
    "Una lista dei formati comunemente usati usando l'unità astronomica (distanza media Sole-Terra in metri) come esempio:"
   ]
  },
  {
   "cell_type": "code",
   "execution_count": null,
   "metadata": {},
   "outputs": [],
   "source": [
    "AU = 149597870700  # unità astronomica [m]\n",
    "\"%f\" % AU        # la prima linee della tavola"
   ]
  },
  {
   "cell_type": "code",
   "execution_count": null,
   "metadata": {},
   "outputs": [],
   "source": [
    "\"%e\" % AU       # la seconda linee della tavola"
   ]
  },
  {
   "cell_type": "markdown",
   "metadata": {},
   "source": [
    "| specifier         |         style         |  Example output for AU|\n",
    "|:------------------|:---------------------:|----------------------:|\n",
    "| `%f` |     floating point    |  `149597870700.000000`|\n",
    "| `%e` |  exponential notation |         `1.495979e+11`|\n",
    "| `%g` |  shorter of %e or %f  |          `1.49598e+11`|\n",
    "| `%d` |        integer        |         `149597870700`|\n",
    "| `%x` |       exadecimal      |           `22d4ba5a6c`|\n",
    "| `%o` |       octal      |           `2132456455154`|\n",
    "| `%s` |  `str()` |         `149597870700`|\n",
    "| `%r` | `repr()` |        `149597870700L`|\n",
    "\n",
    "### “str” and “\\_\\_str\\_\\_”\n",
    "\n",
    "Tutti gli oggetti in Python dovrebbero avere un metodo `__str__` che restituisce una rappresentazione sotto forma di stringa dell'oggetto. Questo metodo `a.__str__()` viene chiamato quando applichiamo la funzione `str` all'oggetto `a`:"
   ]
  },
  {
   "cell_type": "code",
   "execution_count": null,
   "metadata": {},
   "outputs": [],
   "source": [
    "a = 3.14\n",
    "a.__str__()"
   ]
  },
  {
   "cell_type": "code",
   "execution_count": null,
   "metadata": {},
   "outputs": [],
   "source": [
    "str(a)"
   ]
  },
  {
   "cell_type": "markdown",
   "metadata": {},
   "source": [
    "La funzione `str` è molto utile perchè permette di stampare anche oggetti complicati, come"
   ]
  },
  {
   "cell_type": "code",
   "execution_count": null,
   "metadata": {},
   "outputs": [],
   "source": [
    "b = [3, 4.2, ['apple', 'banana'], (0, 1)]\n",
    "str(b)"
   ]
  },
  {
   "cell_type": "markdown",
   "metadata": {},
   "source": [
    "Python stampa `b` usando il metodo  `__str__` dell'oggetto lista. Questo stampa la parentesi quadra iniziale `[` e poi chiama il metodo `__str__` sul primo elemento della stringa, l'intero 3. Questo produce `3`. Poi il metodo  `__str__` dell'oggetto lista stampa la virgola `,` e passa a chiamare il metodo `__str__` sull'elemento successivo, cioè `4.2`, in modo che stampi se stesso. In questo modo qualsiasi oggetto complesso può essere rappresentato come una stringa chiedendo a ciascuno degli elementi contenuti di convertire se stesso in stringa.\n",
    "\n",
    "Il metodo  `__str__` dell'oggetto `x` viene chiamato implicitamente quando\n",
    "\n",
    "-   usiamo il formato “%s” per stampare `x`\n",
    "\n",
    "-   passiamo l'oggetto `x` direttamente al comando print:\n"
   ]
  },
  {
   "cell_type": "code",
   "execution_count": null,
   "metadata": {},
   "outputs": [],
   "source": [
    "print(b)"
   ]
  },
  {
   "cell_type": "code",
   "execution_count": null,
   "metadata": {},
   "outputs": [],
   "source": [
    "print(\"%s\" % b)"
   ]
  },
  {
   "cell_type": "markdown",
   "metadata": {},
   "source": [
    "### Nuovo modo di formattare stringhe \n",
    "\n",
    "Un nuovo sistema built-in di formattazione permette una maggiore flessibilità nei casi complessi, con lo svantaggio\n",
    "di essere meno conciso.\n",
    "\n",
    "Le idee fondamentali attraverso esempi:"
   ]
  },
  {
   "cell_type": "code",
   "execution_count": null,
   "metadata": {},
   "outputs": [],
   "source": [
    "\"{} needs {} pints\".format('Peter',4)     # inserire i valori nell'ordine in cui devono comparire"
   ]
  },
  {
   "cell_type": "code",
   "execution_count": null,
   "metadata": {},
   "outputs": [],
   "source": [
    "\"{0} needs {1} pints\".format('Peter', 4)   # specificare l'indice dell'elemento"
   ]
  },
  {
   "cell_type": "code",
   "execution_count": null,
   "metadata": {},
   "outputs": [],
   "source": [
    "\"{1} needs {0} pints\".format('Peter', 4)"
   ]
  },
  {
   "cell_type": "code",
   "execution_count": null,
   "metadata": {},
   "outputs": [],
   "source": [
    "\"{name} needs {number} pints\".format(    # specificare il nome dell'elemento da\n",
    "    name='Peter',number=4)               # stampare"
   ]
  },
  {
   "cell_type": "code",
   "execution_count": null,
   "metadata": {},
   "outputs": [],
   "source": [
    "import math\n",
    "\"Pi is approximately {:f}.\".format(math.pi)     # si possono usare i formati vecchio stile per i reali\n",
    "                                                # Notate che il format è introdotto da \":\""
   ]
  },
  {
   "cell_type": "code",
   "execution_count": null,
   "metadata": {},
   "outputs": [],
   "source": [
    "\"Pi is approximately {:.2f}.\".format(math.pi)   # e per la loro precisione"
   ]
  },
  {
   "cell_type": "code",
   "execution_count": null,
   "metadata": {
    "scrolled": true
   },
   "outputs": [],
   "source": [
    "\"Pi is approximately {:6.2f}.\".format(math.pi)  # e lunghezza"
   ]
  },
  {
   "cell_type": "markdown",
   "metadata": {},
   "source": [
    "Un esempio di come mescolare formati e ordine delle variabili:"
   ]
  },
  {
   "cell_type": "code",
   "execution_count": null,
   "metadata": {},
   "outputs": [],
   "source": [
    "\"{1:10.8f} --- {0:7.3e} pints\".format(3*math.pi, pi)"
   ]
  },
  {
   "cell_type": "markdown",
   "metadata": {},
   "source": [
    "È un modo potente ed elegante di formattare le stringhe che si sta progressivamente diffondendo.\n",
    "\n",
    "##### Ulteriori informazioni\n",
    "\n",
    "-   Esempi <http://docs.python.org/library/string.html#format-examples>\n",
    "\n",
    "-   [Python Enhancement Proposal 3101](http://www.python.org/dev/peps/pep-3101/)\n",
    "\n",
    "-   [Python library String Formatting Operations](http://docs.python.org/library/stdtypes.html#string-formatting-operations)\n",
    "\n",
    "-   [Old string formatting](http://docs.python.org/tutorial/inputoutput.html#old-string-formatting)\n",
    "\n",
    "-   [Introduction to Fancier Output Formatting, Python tutorial, section 7.1](http://docs.python.org/tutorial/inputoutput.html)\n",
    "\n",
    "- [pyformat.info](https://pyformat.info/)"
   ]
  },
  {
   "cell_type": "markdown",
   "metadata": {},
   "source": [
    "Leggere e scrivere files\n",
    "-------------------------\n",
    "\n",
    "Ecco un programmma che\n",
    "\n",
    "1.  scrive del testo in un file di nome `test.txt`,\n",
    "\n",
    "2.  legge il testo dal file,\n",
    "\n",
    "3.  stampa il testo sullo schermo.\n"
   ]
  },
  {
   "cell_type": "markdown",
   "metadata": {},
   "source": [
    "I dati che vengono immagazzinati nel file `test.txt` sono:\n",
    "\n",
    "```\n",
    "Writing text to file. This is the first line.\n",
    "And the second line.\n",
    "```"
   ]
  },
  {
   "cell_type": "code",
   "execution_count": null,
   "metadata": {},
   "outputs": [],
   "source": [
    "# 1. Scrivere in un file\n",
    "out_file = open(\"test.txt\", \"w\")          # Il file viene aperto/creato in scrittura. 'w' vuol dire Writing.\n",
    "out_file.write(\"Writing text to file. This is the first line.\\n\"+\\\n",
    "               \"And the second line\\n. Third line!!!!!!!\")\n",
    "out_file.close()                          # chiude il file"
   ]
  },
  {
   "cell_type": "code",
   "execution_count": null,
   "metadata": {},
   "outputs": [],
   "source": [
    " \n",
    "# 2. Leggere dal file\n",
    "in_file = open(\"test.txt\", \"r\")           # Il file viene aperto in lettura. 'r' vuol dire Reading\n",
    "text = in_file.read()                     # legge tutto il file in una variabile \"text\" di \n",
    "                                          # tipo stringa\n",
    "in_file.close()                           # chiude il file"
   ]
  },
  {
   "cell_type": "code",
   "execution_count": null,
   "metadata": {},
   "outputs": [],
   "source": [
    "# 3. Mostrare i dati\n",
    "print(text)"
   ]
  },
  {
   "cell_type": "markdown",
   "metadata": {},
   "source": [
    "Più in dettaglio, il file viene aperto con il comando `open`. L'oggetto file aperto viene assegnato alla variabile `out_file`. Il testo viene scritto nel file usando il metodo `out_file.write`. Si noti che nell'esempio più sopra, al metodo `write` è stata passata una stringa. Si possono usare, ovviamente, tutte specificazioni di formato discusse in precedenza — si veda [formatted printing](#Formatted-printing) e [new style formatting](#New-style-string-formatting). È buona pratica usare `close()` su tutti i files in cui si è finito di leggere e scrivere. Se un programma Python finisce in modo controllato (cioè non per una caduta di tensione o un improbabile bug del linguaggio o del sistema operativo) tutti i files aperti vengono chiusi non appena i file objects vengono distrutti. Tuttavia, chiuderli esplicitamente non appena possibile è uno stile migliore di programmazione.\n",
    "\n",
    "### Esempi di lettura da file\n",
    "\n",
    "Creiamo un file chiamato `myfile.txt` che contiene le tre linee di testo seguenti:\n",
    "\n",
    "    This is the first line.\n",
    "    This is the second line.\n",
    "    This is a third and last line."
   ]
  },
  {
   "cell_type": "code",
   "execution_count": null,
   "metadata": {},
   "outputs": [],
   "source": [
    "f = open('myfile.txt', 'w')\n",
    "f.write('This is the first line.\\n'\n",
    "        'This is the second line.\\n'\n",
    "        'This is a third and last line.')\n",
    "f.close()"
   ]
  },
  {
   "cell_type": "markdown",
   "metadata": {},
   "source": [
    "Modi equivalenti:"
   ]
  },
  {
   "cell_type": "code",
   "execution_count": null,
   "metadata": {},
   "outputs": [],
   "source": [
    "f1 = open('myfile1.txt', 'w')\n",
    "f1.write('This is the first line.\\n''This is the second line.\\n''This is a third and last line.')\n",
    "f1.close()\n",
    "print(f1)"
   ]
  },
  {
   "cell_type": "code",
   "execution_count": null,
   "metadata": {},
   "outputs": [],
   "source": [
    "f2 = open('myfile2.txt', 'w')\n",
    "f2.write('This is the first line.\\n'+'This is the second line.\\n'+'This is a third and last line.')\n",
    "f2.close()"
   ]
  },
  {
   "cell_type": "markdown",
   "metadata": {},
   "source": [
    "Modo scorretto:"
   ]
  },
  {
   "cell_type": "code",
   "execution_count": null,
   "metadata": {},
   "outputs": [],
   "source": [
    "f3 = open('myfile3.txt', 'w')\n",
    "f3.write('This is the first line.\\n','This is the second line.\\n','This is a third and last line.')\n",
    "f3.close()"
   ]
  },
  {
   "cell_type": "markdown",
   "metadata": {},
   "source": [
    "#### fileobject.read()\n",
    "\n",
    "Il metodo `fileobject.read()` legge tutto il file, e lo restituisce come una singola stringa (inclusi i caratteri di \"a capo\" `\\n`)."
   ]
  },
  {
   "cell_type": "code",
   "execution_count": null,
   "metadata": {},
   "outputs": [],
   "source": [
    "f = open('myfile.txt', 'r')\n",
    "f.read()"
   ]
  },
  {
   "cell_type": "code",
   "execution_count": null,
   "metadata": {},
   "outputs": [],
   "source": [
    "f.close()"
   ]
  },
  {
   "cell_type": "markdown",
   "metadata": {},
   "source": [
    "#### fileobject.readlines()\n",
    "\n",
    "Il metodo `fileobject.readlines()` restituisce una lista di stringhe, in cui ciascun elemento della lista corrisponde a una linea del file:"
   ]
  },
  {
   "cell_type": "code",
   "execution_count": null,
   "metadata": {},
   "outputs": [],
   "source": [
    "f = open('myfile.txt', 'r')\n",
    "f.readlines()"
   ]
  },
  {
   "cell_type": "code",
   "execution_count": null,
   "metadata": {},
   "outputs": [],
   "source": [
    "f.close()"
   ]
  },
  {
   "cell_type": "markdown",
   "metadata": {},
   "source": [
    "Questo metodo viene spesso utilizzato per iterare sulle linee, compiendo delle operzioni su ciascuna linea. Per esempio:"
   ]
  },
  {
   "cell_type": "code",
   "execution_count": null,
   "metadata": {},
   "outputs": [],
   "source": [
    "f = open('myfile.txt', 'r')\n",
    "for line in f.readlines():\n",
    "    print(\"%d characters\" % len(line))\n",
    "f.close()"
   ]
  },
  {
   "cell_type": "markdown",
   "metadata": {},
   "source": [
    "Si noti che `readlines()` immagazzina tutto il file in una lista di stringhe. Non è un problema se si è sicuri che il file è piccolo e che può essere contenuto nella memoria disponibile.\n",
    "\n",
    "In questo caso, possiamo chiudere il file prima di processarne il contenuto:"
   ]
  },
  {
   "cell_type": "code",
   "execution_count": null,
   "metadata": {},
   "outputs": [],
   "source": [
    "f = open('myfile.txt', 'r')\n",
    "lines = f.readlines()\n",
    "f.close()\n",
    "for line in lines:\n",
    "    print(\"%d characters  %s\" % (len(line),line))"
   ]
  },
  {
   "cell_type": "code",
   "execution_count": null,
   "metadata": {},
   "outputs": [],
   "source": [
    "lines"
   ]
  },
  {
   "cell_type": "markdown",
   "metadata": {},
   "source": [
    "#### Come iterare sulle linee (file object)\n",
    "\n",
    "Esiste una notazione ancora più semplice per leggere un file linea per linea che (1) legge solo una linea alla volta (e quindi è adatto anche a files grandi) e (2) produce un codice più compatto:"
   ]
  },
  {
   "cell_type": "code",
   "execution_count": null,
   "metadata": {},
   "outputs": [],
   "source": [
    "f = open('myfile.txt', 'r')\n",
    "for line in f:\n",
    "    print(\"%d characters\" % len(line))\n",
    "f.close()"
   ]
  },
  {
   "cell_type": "markdown",
   "metadata": {},
   "source": [
    "In questo caso, il \"file handle\" `f` agisce come un iteratore e restituisce la linea seguente a ogni iterazione del  for-loop fino alla fine del file (quando il for-loop finisce)."
   ]
  },
  {
   "cell_type": "markdown",
   "metadata": {},
   "source": [
    "### Come importare dentro degli array i dati contenuti in un file di testo\n",
    "\n",
    "Usiamo la funzione `loadtxt` del modulo Numpy."
   ]
  },
  {
   "cell_type": "code",
   "execution_count": null,
   "metadata": {},
   "outputs": [],
   "source": [
    "import numpy as np\n",
    "\n",
    "dataPt, time, height, error = np.loadtxt( \"../Data/CadutaLiberaDati.txt\", skiprows=5 , unpack=True)"
   ]
  },
  {
   "cell_type": "markdown",
   "metadata": {},
   "source": [
    "Il parametro `skiprows=5` dice a `loadtxt` di ignorare le prime cinque righe che costituiscono l'`header` del file. Il parametro `unpack=True` dice di estrarre i dati dalle linee in modo che possano essere caricati nell'ntupla di array a primo membro. Il comando assume che i dati siano separati da uno o più spazi."
   ]
  },
  {
   "cell_type": "code",
   "execution_count": null,
   "metadata": {},
   "outputs": [],
   "source": [
    "print(height)"
   ]
  },
  {
   "cell_type": "markdown",
   "metadata": {},
   "source": [
    "Se i dati sono contenuti in un Comma-Separated Values file (CSV), una alternativa molto comune, è sufficiente specificare il separatore con la keyword `delimiter`."
   ]
  },
  {
   "cell_type": "code",
   "execution_count": null,
   "metadata": {},
   "outputs": [],
   "source": [
    "dataPt, time, height, error = np.loadtxt(\"../Data/CadutaLiberaDati.csv\", skiprows=5 , unpack=True, delimiter=',')"
   ]
  },
  {
   "cell_type": "markdown",
   "metadata": {},
   "source": [
    "### Come esportare degli array in un file di testo\n",
    "\n",
    "Esempio usando gli array precedenti:"
   ]
  },
  {
   "cell_type": "code",
   "execution_count": null,
   "metadata": {},
   "outputs": [],
   "source": [
    "info = \"Misure esperimento Caduta Libera\\n\"\n",
    "info +=\"Data: 13 Dicembre 2019\\n\"\n",
    "info +=\"\\n\\n\"\n",
    "info +=\"       Punto    Tempo(sec)   Altezza(m)   Incertezza(m)\\n\"\n",
    "\n",
    "np.savetxt('../ShellPrograms/CLD.txt',\n",
    "           list(zip(dataPt, time, height, error)),\n",
    "           header=info, fmt=\"%12.1f\")"
   ]
  },
  {
   "cell_type": "markdown",
   "metadata": {},
   "source": [
    "Se si preferisce un file CSV:"
   ]
  },
  {
   "cell_type": "code",
   "execution_count": null,
   "metadata": {},
   "outputs": [],
   "source": [
    "np.savetxt('../ShellPrograms/CLD.csv',\n",
    "           list(zip(dataPt, time, height, error)),\n",
    "           header=info, fmt=\"%12.1f\", delimiter=\",\")"
   ]
  },
  {
   "cell_type": "markdown",
   "metadata": {},
   "source": [
    "##### Informazioni ulteriori\n",
    "\n",
    "[Methods of File objects, Tutorial, Section 7.2.1](http://docs.python.org/tutorial/inputoutput.html#methods-of-file-objects)"
   ]
  }
 ],
 "metadata": {
  "hide_input": false,
  "kernelspec": {
   "display_name": "Python 3",
   "language": "python",
   "name": "python3"
  },
  "language_info": {
   "codemirror_mode": {
    "name": "ipython",
    "version": 3
   },
   "file_extension": ".py",
   "mimetype": "text/x-python",
   "name": "python",
   "nbconvert_exporter": "python",
   "pygments_lexer": "ipython3",
   "version": "3.7.3"
  },
  "toc": {
   "base_numbering": 1,
   "nav_menu": {},
   "number_sections": true,
   "sideBar": true,
   "skip_h1_title": true,
   "title_cell": "Table of Contents",
   "title_sidebar": "Contents",
   "toc_cell": false,
   "toc_position": {},
   "toc_section_display": true,
   "toc_window_display": false
  },
  "varInspector": {
   "cols": {
    "lenName": 16,
    "lenType": 16,
    "lenVar": 40
   },
   "kernels_config": {
    "python": {
     "delete_cmd_postfix": "",
     "delete_cmd_prefix": "del ",
     "library": "var_list.py",
     "varRefreshCmd": "print(var_dic_list())"
    },
    "r": {
     "delete_cmd_postfix": ") ",
     "delete_cmd_prefix": "rm(",
     "library": "var_list.r",
     "varRefreshCmd": "cat(var_dic_list()) "
    }
   },
   "types_to_exclude": [
    "module",
    "function",
    "builtin_function_or_method",
    "instance",
    "_Feature"
   ],
   "window_display": false
  }
 },
 "nbformat": 4,
 "nbformat_minor": 4
}
