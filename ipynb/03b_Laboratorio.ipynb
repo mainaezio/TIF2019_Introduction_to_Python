{
 "cells": [
  {
   "cell_type": "markdown",
   "metadata": {},
   "source": [
    "# Programmare in Python\n",
    "\n",
    "## Laboratorio: Tipi di dati\n"
   ]
  },
  {
   "cell_type": "markdown",
   "metadata": {},
   "source": [
    "### Esercizi"
   ]
  },
  {
   "cell_type": "markdown",
   "metadata": {},
   "source": [
    "Aggiungere: Copia di oggetti: shallow e deep."
   ]
  },
  {
   "cell_type": "markdown",
   "metadata": {},
   "source": [
    "__1 - Un filamento di RNA è una stringa formata dall'alfabeto 'A', 'C', 'G', and 'U' (Adenina, Citosina, Guanina, Uracile).<br>\n",
    "Data una stringa D di DNA corrispondente a un filamento di codice genetico, la sua trascrizione in una stringa R di RNA si ottiene rimpiazzando tutte le istanze di 'T' (Timina) in D con 'U'.<br>\n",
    "Costruite una funzione che, data una stringa D di DNA, contenente al più 1000 nucletidi, restituisca la sua trascrizione in una stringa D di RNA.__"
   ]
  },
  {
   "cell_type": "code",
   "execution_count": null,
   "metadata": {},
   "outputs": [],
   "source": []
  },
  {
   "cell_type": "markdown",
   "metadata": {},
   "source": [
    "__2 - In una molecola di DNA, i simboli 'A' e 'T' sono complementari, come lo sono 'C' e 'G'. In altre parole, se in un filamento di DNA alla posizione N c'è 'A' ('C'), nel secondo filamento (complemento) alla posizione N c'e' sempre 'T' ('G') e viceversa.<br> \n",
    "Il complemento inverso SC di un filamento di DNA S si ottiene invertendo l'ordine dei simboli e poi sostituendo ciascun simbolo con il suo complemento. Per esempio il complemento inverso di \"GTCA\" è \"TGAC\".<br>\n",
    "Costruite una funzione che, data una stringa S di DNA, contenente al più 1000 nucletidi, restituisca il suo complemento inverso SC?<br>\n",
    "Cosa succede se si inverte l'ordine delle operazioni, cioè prima si sostituisce ciascun simbolo con il suo complemento e poi si inverte l'ordine dei simboli?__"
   ]
  },
  {
   "cell_type": "code",
   "execution_count": null,
   "metadata": {},
   "outputs": [],
   "source": []
  },
  {
   "cell_type": "markdown",
   "metadata": {},
   "source": [
    "__3 - Scrivere una funzione che prenda come input due vettori nel piano v1 e v2 e restituisca la scomposizione di v1 in due vettori w1 e w2, il primo parallelo a v2 il secondo ortogonale a v2. La scomposizione è unica? Se i vettori fossero vettori in tre dimensioni la scomposizione sarebbe unica?__"
   ]
  },
  {
   "cell_type": "code",
   "execution_count": null,
   "metadata": {},
   "outputs": [],
   "source": []
  },
  {
   "cell_type": "markdown",
   "metadata": {},
   "source": [
    "__4 - Scrivete una funzione che calcoli la distanza euclidea fra due punti in uno spazio ad N dimensioni, qualunque sia N.__"
   ]
  },
  {
   "cell_type": "code",
   "execution_count": null,
   "metadata": {},
   "outputs": [],
   "source": []
  },
  {
   "cell_type": "markdown",
   "metadata": {},
   "source": [
    "__5 - Scrivete una funzione che prende come input un intero e restituisca la somma delle sue cifre dispari \n",
    "nella forma:__\n",
    "\n",
    "> La somma delle cifre dispari nel numero $n$ è $d$.\n",
    "\n",
    "__Test:__\n",
    "\n",
    "* Input: $-131723$\n",
    "* Output: `La somma delle cifre dispari nel numero -131723 è 15.`  \n",
    "  ($1+3+1+7+3 = 15$)"
   ]
  },
  {
   "cell_type": "code",
   "execution_count": null,
   "metadata": {},
   "outputs": [],
   "source": []
  },
  {
   "cell_type": "markdown",
   "metadata": {},
   "source": [
    "__6 - Costruite una funzione che prenda come input una lista di interi L e un intero n, e restituisca l'indice dell'elemento n in L. Se l'oggetto non è presente la funzione deve restituire `None`. Come evitare il messaggio di errore:__\n",
    "```\n",
    "ValueError: \"n\" is not in list\n",
    "```\n",
    "__?__"
   ]
  },
  {
   "cell_type": "code",
   "execution_count": null,
   "metadata": {},
   "outputs": [],
   "source": []
  },
  {
   "cell_type": "markdown",
   "metadata": {},
   "source": [
    "__7 - Scrivete una funzione `copy_to_len_whole(s, l)` che restituisce la stringa più lunga possibile composta di copie complete di `s`. La lunghezza del risultato deve essere minore o uguale a `l`.__\n",
    "\n",
    "__Per esempio,__\n",
    "* `copy_to_len_whole(\"12345\", 17)` deve restituire `\"123451234512345\"` (length 15);\n",
    "\n",
    "__Potete assumere che `s` non sia vuota e che `l >= 0`. Suggerimento: `//`.__"
   ]
  },
  {
   "cell_type": "code",
   "execution_count": null,
   "metadata": {},
   "outputs": [],
   "source": []
  }
 ],
 "metadata": {
  "hide_input": false,
  "kernelspec": {
   "display_name": "Python 3",
   "language": "python",
   "name": "python3"
  },
  "language_info": {
   "codemirror_mode": {
    "name": "ipython",
    "version": 3
   },
   "file_extension": ".py",
   "mimetype": "text/x-python",
   "name": "python",
   "nbconvert_exporter": "python",
   "pygments_lexer": "ipython3",
   "version": "3.7.3"
  },
  "toc": {
   "base_numbering": 1,
   "nav_menu": {},
   "number_sections": true,
   "sideBar": true,
   "skip_h1_title": true,
   "title_cell": "Table of Contents",
   "title_sidebar": "Contents",
   "toc_cell": false,
   "toc_position": {},
   "toc_section_display": true,
   "toc_window_display": false
  },
  "varInspector": {
   "cols": {
    "lenName": 16,
    "lenType": 16,
    "lenVar": 40
   },
   "kernels_config": {
    "python": {
     "delete_cmd_postfix": "",
     "delete_cmd_prefix": "del ",
     "library": "var_list.py",
     "varRefreshCmd": "print(var_dic_list())"
    },
    "r": {
     "delete_cmd_postfix": ") ",
     "delete_cmd_prefix": "rm(",
     "library": "var_list.r",
     "varRefreshCmd": "cat(var_dic_list()) "
    }
   },
   "types_to_exclude": [
    "module",
    "function",
    "builtin_function_or_method",
    "instance",
    "_Feature"
   ],
   "window_display": false
  }
 },
 "nbformat": 4,
 "nbformat_minor": 4
}
