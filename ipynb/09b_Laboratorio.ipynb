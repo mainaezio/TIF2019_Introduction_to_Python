{
 "cells": [
  {
   "cell_type": "markdown",
   "metadata": {},
   "source": [
    "# Programmare in Python\n",
    "\n",
    "## Laboratorio: Plots"
   ]
  },
  {
   "cell_type": "markdown",
   "metadata": {},
   "source": [
    "Come fare una derivata usando sympy:\n",
    "```\n",
    "import sympy\n",
    "x = sympy.Symbol('x')\n",
    "sympy.diff(sympy.sin(x), x)\n",
    "```\n",
    "Come fare uno sviluppo in serie usando sympy:\n",
    "```\n",
    "import sympy\n",
    "x = sympy.Symbol('x')\n",
    "sympy.cos(x).series(x, 0, 6)\n",
    "```\n",
    "Per rimuovere il termine $O(x^n)$:\n",
    "```\n",
    "sympy.cos(x).series(x, 0, 6).removeO()\n",
    "````\n",
    "Come integrare una funzione usando sympy:\n",
    "```\n",
    "import sympy\n",
    "x = sympy.Symbol('x')\n",
    "sympy.integrate(x**2, x)              # Integrale indefinito\n",
    "sympy.integrate(x**2, (x, 0, 2))      # Integrale definito\n",
    "```"
   ]
  },
  {
   "cell_type": "markdown",
   "metadata": {},
   "source": [
    "### Esercizi"
   ]
  },
  {
   "cell_type": "markdown",
   "metadata": {},
   "source": [
    "__1 - Fate il plot di $\\frac{\\sin (x)}{x}$. Scegliete un intervallo opportuno. Cosa succede nell'intorno di $x \\,=\\, 0$?__"
   ]
  },
  {
   "cell_type": "code",
   "execution_count": null,
   "metadata": {},
   "outputs": [],
   "source": []
  },
  {
   "cell_type": "markdown",
   "metadata": {},
   "source": [
    "__2 - Fate il plot di $\\tan (x)$.__ (D.J.Pine, Introduction to Python for Science and Engineering, 6.2.3)"
   ]
  },
  {
   "cell_type": "code",
   "execution_count": null,
   "metadata": {},
   "outputs": [],
   "source": []
  },
  {
   "cell_type": "markdown",
   "metadata": {},
   "source": [
    "__3 - Fare il grafico della funzione $\\int_0^x \\, \\frac{\\sin(t)}{t} \\,dt$\n",
    "fra $x = -10$ e $x = 10$.__"
   ]
  },
  {
   "cell_type": "code",
   "execution_count": null,
   "metadata": {},
   "outputs": [],
   "source": []
  },
  {
   "cell_type": "markdown",
   "metadata": {},
   "source": [
    "__4 - In un unico grafico, disegnate le funzioni $f_n = x^n$ con $n$ in `range(1,5)`. Inserite gli elementi grafici opportuni per rendere la figura comprensibile.__"
   ]
  },
  {
   "cell_type": "code",
   "execution_count": null,
   "metadata": {},
   "outputs": [],
   "source": []
  },
  {
   "cell_type": "markdown",
   "metadata": {},
   "source": [
    "__5 - Disegnate la funzione $y =  \\exp (\\frac{(x^2 - 5 x - 1)} {(x^4  + 3)})$. Trovare le coordinate $(x,y)$ di massimi e minimi.__"
   ]
  },
  {
   "cell_type": "code",
   "execution_count": null,
   "metadata": {},
   "outputs": [],
   "source": []
  },
  {
   "cell_type": "markdown",
   "metadata": {},
   "source": [
    "__6 - Disegnate,in un solo grafico, la funzione $f(x) =  \\frac{x\\,(x-1)}{x**2+1}-1$, la sua derivata prima e la sua derivata seconda nell'intervallo (-8,8).__"
   ]
  },
  {
   "cell_type": "code",
   "execution_count": null,
   "metadata": {},
   "outputs": [],
   "source": []
  }
 ],
 "metadata": {
  "hide_input": false,
  "kernelspec": {
   "display_name": "Python 3",
   "language": "python",
   "name": "python3"
  },
  "language_info": {
   "codemirror_mode": {
    "name": "ipython",
    "version": 3
   },
   "file_extension": ".py",
   "mimetype": "text/x-python",
   "name": "python",
   "nbconvert_exporter": "python",
   "pygments_lexer": "ipython3",
   "version": "3.7.3"
  },
  "toc": {
   "base_numbering": 1,
   "nav_menu": {},
   "number_sections": true,
   "sideBar": true,
   "skip_h1_title": true,
   "title_cell": "Table of Contents",
   "title_sidebar": "Contents",
   "toc_cell": false,
   "toc_position": {},
   "toc_section_display": true,
   "toc_window_display": false
  },
  "varInspector": {
   "cols": {
    "lenName": 16,
    "lenType": 16,
    "lenVar": 40
   },
   "kernels_config": {
    "python": {
     "delete_cmd_postfix": "",
     "delete_cmd_prefix": "del ",
     "library": "var_list.py",
     "varRefreshCmd": "print(var_dic_list())"
    },
    "r": {
     "delete_cmd_postfix": ") ",
     "delete_cmd_prefix": "rm(",
     "library": "var_list.r",
     "varRefreshCmd": "cat(var_dic_list()) "
    }
   },
   "types_to_exclude": [
    "module",
    "function",
    "builtin_function_or_method",
    "instance",
    "_Feature"
   ],
   "window_display": false
  }
 },
 "nbformat": 4,
 "nbformat_minor": 4
}
