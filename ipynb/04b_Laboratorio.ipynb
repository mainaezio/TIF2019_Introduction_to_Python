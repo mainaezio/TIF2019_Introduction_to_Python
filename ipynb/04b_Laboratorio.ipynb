{
 "cells": [
  {
   "cell_type": "markdown",
   "metadata": {},
   "source": [
    "# Programmare in Python\n",
    "\n",
    "## Laboratorio: Control Flow"
   ]
  },
  {
   "cell_type": "markdown",
   "metadata": {},
   "source": [
    "### Esempio 1: if-elif-else"
   ]
  },
  {
   "cell_type": "code",
   "execution_count": null,
   "metadata": {},
   "outputs": [],
   "source": [
    "a = 37\n",
    "if a == 0:\n",
    "    print(\"a is zero\")\n",
    "elif a < 0:\n",
    "    print(\"a is negative\")\n",
    "else:\n",
    "    print(\"a is positive\")"
   ]
  },
  {
   "cell_type": "markdown",
   "metadata": {},
   "source": [
    "### Esempio 2: do-loop"
   ]
  },
  {
   "cell_type": "code",
   "execution_count": null,
   "metadata": {},
   "outputs": [],
   "source": [
    "for i in range(5,10):\n",
    "    print(i)"
   ]
  },
  {
   "cell_type": "markdown",
   "metadata": {},
   "source": [
    "### Esempio 3: while-loop"
   ]
  },
  {
   "cell_type": "code",
   "execution_count": null,
   "metadata": {},
   "outputs": [],
   "source": [
    "repeat = 0\n",
    "while repeat < 5:\n",
    "    print('repeat:',repeat)\n",
    "    repeat+=1"
   ]
  },
  {
   "cell_type": "markdown",
   "metadata": {},
   "source": [
    "### Esercizi"
   ]
  },
  {
   "cell_type": "markdown",
   "metadata": {},
   "source": [
    "__1 - Scrivete una funzione che determini se un numero intero è pari o dispari e dia la risposta con un messaggio appropriato.__"
   ]
  },
  {
   "cell_type": "code",
   "execution_count": null,
   "metadata": {},
   "outputs": [],
   "source": []
  },
  {
   "cell_type": "markdown",
   "metadata": {},
   "source": [
    "__2 -Scrivete una funzione per determinare se un numero intero N1 è divisibile per un numero intero N2. La funzione deve ritornare `True/False`.__"
   ]
  },
  {
   "cell_type": "code",
   "execution_count": null,
   "metadata": {},
   "outputs": [],
   "source": []
  },
  {
   "cell_type": "markdown",
   "metadata": {},
   "source": [
    "__3 - Scrivere una funzione che stampi le prime N righe del triangolo di Pascal (coefficienti dello sviluppo binomiale) usando un metodo iterativo.__"
   ]
  },
  {
   "cell_type": "code",
   "execution_count": null,
   "metadata": {},
   "outputs": [],
   "source": []
  },
  {
   "cell_type": "markdown",
   "metadata": {},
   "source": [
    "__4 - Scrivere una funzione che stampi l'N-esima riga del triangolo di Pascal (coefficienti dello sviluppo binomiale) usando l'espressione analitica.__"
   ]
  },
  {
   "cell_type": "code",
   "execution_count": null,
   "metadata": {},
   "outputs": [],
   "source": []
  },
  {
   "cell_type": "markdown",
   "metadata": {},
   "source": [
    "__5 - Scrivete una funzione per calcolare le radici di un'equazione algebrica di secondo grado tenendo conto del segno del determinante.__ "
   ]
  },
  {
   "cell_type": "markdown",
   "metadata": {},
   "source": [
    "__- Scrivete una funzione per calcolare il Massimo Comun Divisore fra due interi usando l'algoritmo di Euclide.__"
   ]
  },
  {
   "cell_type": "code",
   "execution_count": null,
   "metadata": {},
   "outputs": [],
   "source": []
  },
  {
   "cell_type": "markdown",
   "metadata": {},
   "source": [
    "**Problem 2.** Write a program that loads integers until a zero is loaded and then prints the maximum among them and which one was it (not taking the zero into the account). If there is more than one maximum, use the first one among them as a solution.\n",
    "\n",
    "**Test data:**\n",
    "\n",
    "* Input: $-19, -17, -23, -17, 0$\n",
    "* Output: `The maximum number is #2 and its value is -17.`\n",
    "\n",
    "Be careful about the case when only a zero is loaded.\n"
   ]
  },
  {
   "cell_type": "markdown",
   "metadata": {},
   "source": [
    "**Problem 5.** Write a program that inputs integers until it gets a zero and prints the one with the maximum sum of its odd digits. If there is more than one such number, print the first one.\n",
    "\n",
    "**Explanation:**\n",
    "\n",
    "Read the problem text carefuly, because it may be a bit confusing.\n",
    "\n",
    "What we want is to load some numbers, then:\n",
    "\n",
    "1. For **each** of those numbers compute the sum of its odd digits.\n",
    "\n",
    "2. Find maximum **among these sums** and print the corresponding **number**.  \n",
    "   Be careful **not** to print that sum nor the absolute value of a number, instead of a number itself.\n",
    "\n",
    "Rewriting the problem in steps like these above can help you focus on parts of a problem in order to solve it properly.\n",
    "\n",
    "**Hints:**\n",
    "\n",
    "* Remember that the algorithm from the lectures removes digits from a number, so using that number as a terminating condition of the loop has to be done carefully. One way to do so is with the auxiliary variable (`tmp` in the code in the lectures), but - given the nature of the problem - this might be more convenient\n",
    "```python\n",
    "    n = input(\"The first number: \")\n",
    "    while n != 0:\n",
    "        # do what needs to be done #\n",
    "        n = input(\"The next number: \")\n",
    "```\n",
    "  If you are familiar with `break` (which the lectures will cover later), you might want to use it for a cleaner solution.\n",
    "\n",
    "* You will need a variable to store the maximum and the sum. Be careful where you initialize these!\n",
    "\n",
    "* The desired output is a number, not its sum of odd digits! When finding a new maximum, you will need to rember both the number (for the output) and the sum of its odd digits (for future comparisons).\n",
    "\n",
    "**Test data:**\n",
    "\n",
    "* Input: $13$, $-17$, $888$, $616$, $0$\n",
    "* Output: $-17$  \n",
    "  (the required sums are: $4$, $8$, $0$, $1$, so $17$ has the biggest sum of odd digits)"
   ]
  },
  {
   "cell_type": "code",
   "execution_count": null,
   "metadata": {},
   "outputs": [],
   "source": []
  },
  {
   "cell_type": "markdown",
   "metadata": {
    "slideshow": {
     "slide_type": "slide"
    }
   },
   "source": [
    "**Problem 1.** Write a program that loads one integer $n$, a digit $d$, and two nonnegative integers $a$ and $b$ such that $a > b$ (verify that the input satisfies these conditions) and prints the largest integer $x$ such that:\n",
    "\n",
    "1. $0 \\le x \\le n$,\n",
    "\n",
    "2. $x$ is a perfect square of some integer (i.e., there exists $y \\in \\mathbb{Z}$ such that $x = y^2$),\n",
    "\n",
    "3. the last digit of $x$ is $d$,\n",
    "\n",
    "4. the remainder of the division of $x$ by $a$ is equal to $b$.\n",
    "\n",
    "If there is no such number, the program has to print an appropriate message."
   ]
  },
  {
   "cell_type": "markdown",
   "metadata": {},
   "source": [
    "**Hints:**\n",
    "\n",
    "1. Verifying the input means checking that $0 \\le d \\le 9$ and that $a > b \\ge 0$. There is no need to check that any of the loaded numbers are integers, as this will be handled by the `int` funtion that crashes the program if something other than integer is given (which can be handled, but we'll get to that later on).\n",
    "\n",
    "2. Checking that a certain number is a perfect square is not very hard, but there can be far too many candidates. For example, if $n = 1024 = 32^2$, there are only $33$ perfect squares in the set $\\{0, 1, \\dots, n\\}$, but we would have to check all $1025$ nonnegative integers smaller than or equal to $n$.  \n",
    "   A better approach is to have a loop go through the values of $y$ (from zero to $\\lfloor \\sqrt{n} \\rfloor$), compute $x = y^2$, and then check the conditions 3 and 4."
   ]
  },
  {
   "cell_type": "markdown",
   "metadata": {},
   "source": [
    "**Some running examples**\n",
    "\n",
    "Input \\#1:\n",
    "\n",
    "    n = 73\n",
    "    d = 9\n",
    "    a = 3\n",
    "    b = 1\n",
    "    The desired number: 49\n",
    "\n",
    "Input \\#2:\n",
    "\n",
    "    n = 200\n",
    "    d = 9\n",
    "    a = 3\n",
    "    b = 1\n",
    "    The desired number: 169\n",
    "\n",
    "Input \\#3:\n",
    "\n",
    "    n = 47\n",
    "    d = 9\n",
    "    a = 3\n",
    "    b = 1\n",
    "    No such number exists!"
   ]
  }
 ],
 "metadata": {
  "hide_input": false,
  "kernelspec": {
   "display_name": "Python 3",
   "language": "python",
   "name": "python3"
  },
  "language_info": {
   "codemirror_mode": {
    "name": "ipython",
    "version": 3
   },
   "file_extension": ".py",
   "mimetype": "text/x-python",
   "name": "python",
   "nbconvert_exporter": "python",
   "pygments_lexer": "ipython3",
   "version": "3.7.3"
  },
  "toc": {
   "base_numbering": 1,
   "nav_menu": {},
   "number_sections": true,
   "sideBar": true,
   "skip_h1_title": true,
   "title_cell": "Table of Contents",
   "title_sidebar": "Contents",
   "toc_cell": false,
   "toc_position": {},
   "toc_section_display": true,
   "toc_window_display": false
  },
  "varInspector": {
   "cols": {
    "lenName": 16,
    "lenType": 16,
    "lenVar": 40
   },
   "kernels_config": {
    "python": {
     "delete_cmd_postfix": "",
     "delete_cmd_prefix": "del ",
     "library": "var_list.py",
     "varRefreshCmd": "print(var_dic_list())"
    },
    "r": {
     "delete_cmd_postfix": ") ",
     "delete_cmd_prefix": "rm(",
     "library": "var_list.r",
     "varRefreshCmd": "cat(var_dic_list()) "
    }
   },
   "types_to_exclude": [
    "module",
    "function",
    "builtin_function_or_method",
    "instance",
    "_Feature"
   ],
   "window_display": false
  }
 },
 "nbformat": 4,
 "nbformat_minor": 4
}
