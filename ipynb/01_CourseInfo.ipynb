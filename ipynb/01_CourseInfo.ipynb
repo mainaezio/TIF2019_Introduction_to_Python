{
 "cells": [
  {
   "cell_type": "markdown",
   "metadata": {},
   "source": [
    "<img src=\"../Humour/ComputerBasicsClass.jpg\" width=\"500\" align=\"center\"/>"
   ]
  },
  {
   "cell_type": "markdown",
   "metadata": {},
   "source": [
    "- Assumerò che non sappiate nulla di programmazione e che abbiate solo una vaga idea di cosa sia un programma e di cosa faccia un programmatore\n",
    "- Useremo python 3\n",
    "- Useremo l'interfaccia Jupyter Lab e i notebook Jupyter. \n",
    "- Scaricate e installate la distribuzione Anaconda da https://www.anaconda.com/distribution/ (Window,Linux,Mac) sul vostro laptop"
   ]
  },
  {
   "cell_type": "markdown",
   "metadata": {},
   "source": [
    "<img src=\"../Humour/MontyPython.jpg\" width=\"500\" align=\"center\"/>"
   ]
  },
  {
   "cell_type": "markdown",
   "metadata": {},
   "source": [
    "- Questo corso mira a mettervi rapidamente in grado di utilizzare un calcolatore per fare le cose essenziali per uno studente di Fisica: fare calcoli, disegnare grafici. Useremo le librerie fondamentali: numpy, scipy, simpy, matplotlib\n",
    "- Start now, perfect it later. Molti dettagli importanti verranno lasciati da parte e ripresi in Introduzione alla Programmazione"
   ]
  },
  {
   "cell_type": "markdown",
   "metadata": {},
   "source": [
    "- 12 ore in aula. Portate il vostro laptop. Scaricate i notebook prima della lezione (non soltanto per TIF).\n",
    "- Per ogni lezione in aula sarà disponibile un notebook di esercizi da fare prima del laboratorio.\n",
    "- 12 nei laboratori. Aule F e G, Seminterrato. La classe verrà divisa in due gruppi.\n",
    "- Durante laboratori vi verranno proposti piccoli approfondimenti e ed esercizi da risolvere autonomamente.  Io sarò in aula e ci saranno degli assistenti per aiutarvi.\n",
    "- Tutte le lezioni sono disponibili e scaricabili sul mio sito: http://personalpages.to.infn.it/~maina/ in formato html (sola lettura) e in formato ipynb (eseguibile)"
   ]
  },
  {
   "cell_type": "markdown",
   "metadata": {},
   "source": [
    "- Il corso non ha voto finale. Approvato/Non approvato\n",
    "- Alla fine di ciascuna sessione in laboratorio una prova con uno/due esercizi. Valutati\n",
    "- Se almeno il 60% degli esercizi viene completato in modo soddisfacente l'esame è passato. Verrà registrato a gennaio."
   ]
  },
  {
   "cell_type": "markdown",
   "metadata": {},
   "source": [
    "Soddisfacente vuol dire:\n",
    "\n",
    "- Il codice può essere eseguito: la sintassi è corretta\n",
    "- Il codice fornisce le risposte giuste"
   ]
  },
  {
   "cell_type": "markdown",
   "metadata": {},
   "source": [
    "- Seguite le lezioni e fate con costanza gli esercizi e saranno i 3 crediti più facili della vostra carriera\n",
    "- Se preferite un esame più tradizionale, sarà possibile (ma *fortissimamente* sconsigliato) averne uno alla fine del semestre. Consisterà di esercizi da risolvere in laboratorio"
   ]
  },
  {
   "cell_type": "markdown",
   "metadata": {},
   "source": [
    "- Le domande sono molto apprezzate\n",
    "- La collaborazione durante i laboratori, con l'eccezione del periodo d'esame, è fortemente incoraggiata\n",
    "- Becoming fluent in technical English is a must "
   ]
  },
  {
   "cell_type": "markdown",
   "metadata": {},
   "source": [
    "<img src=\"../Humour/Explain_It_Again.jpg\" width=\"500\" align=\"center\"/>"
   ]
  },
  {
   "cell_type": "markdown",
   "metadata": {},
   "source": [
    "- Non potete imparare a programmare mandando a memoria\n",
    "- Imparate solo facendo. Fare significa sedersi al computer, battere i comandi e, provando e riprovando, farli funzionare, ottenendo il risultato corretto\n",
    "- Utilizzate le tecniche imparate a TIF per fare/verificare gli esercizi di Analisi e Algebra/Geometria. Due piccioni con una fava\n",
    "- Molte delle abilità che svilupperete nello scrivere programmi, la capacità di analizzare un problema e di spezzarlo in elementi semplici, l'attenzione a tutti i dettagli, la capacità di rendersi conto se il risultato ottenuto è sensato e la capacità di trovare dove si è sbagliato se non lo è, sono le abilità necessarie per comprendere e risolvere qualsiasi problema fisico"
   ]
  },
  {
   "cell_type": "markdown",
   "metadata": {},
   "source": [
    "<img src=\"../Humour/HandsOnExperience.jpg\" width=\"450\" align=\"center\"/>"
   ]
  },
  {
   "cell_type": "markdown",
   "metadata": {},
   "source": [
    "- Il mio indirizzo email è <maina@to.infn.it>\n",
    "- È disponibile un Forum *anonimo* per postare osservazioni, segnalazioni di errore e domande. Lo trovate a [https://docs.google.com/forms/d/10OkHI1W7iRVI4GoIp9jRx6-cbfhoyb9Wh9ky01Dp_Qw/edit](https://docs.google.com/forms/d/10OkHI1W7iRVI4GoIp9jRx6-cbfhoyb9Wh9ky01Dp_Qw/edit)"
   ]
  },
  {
   "cell_type": "markdown",
   "metadata": {},
   "source": [
    "Il materiale su Python sul web è talmente abbondante che diventa difficile raccapezzarsi. Non tutte le informazioni sono aggiornate.<br/>\n",
    "\n",
    "Tutorial di Python:<br/>\n",
    "[Real Python: Introduction to Python](https://realpython.com/learning-paths/python3-introduction/)\n",
    "\n",
    "Tutorial di Jupyter:<br/>\n",
    "[Real Python: Jupyters Notebook: An Introduction](https://realpython.com/jupyter-notebook-introduction/)\n",
    "\n",
    "Libri/Lezioni:<br/>\n",
    "[Hans Fanghor - Python for Computational Science and Engineering](https://www.southampton.ac.uk/~fangohr/teaching/python/book.html) su cui si basano le lezioni<br/>\n",
    "[Robert Johanson - Scientific Computing with Python](http://raw.github.com/jrjohansson/scientific-python-lectures/master/Scientific-Computing-with-Python.pdf)<br/>\n",
    "[Allen Downey - Think Python](http://www.greenteapress.com/thinkpython/html/index.html)"
   ]
  },
  {
   "cell_type": "code",
   "execution_count": null,
   "metadata": {},
   "outputs": [],
   "source": [
    "import this"
   ]
  }
 ],
 "metadata": {
  "hide_input": false,
  "kernelspec": {
   "display_name": "Python 3",
   "language": "python",
   "name": "python3"
  },
  "language_info": {
   "codemirror_mode": {
    "name": "ipython",
    "version": 3
   },
   "file_extension": ".py",
   "mimetype": "text/x-python",
   "name": "python",
   "nbconvert_exporter": "python",
   "pygments_lexer": "ipython3",
   "version": "3.7.3"
  },
  "toc": {
   "base_numbering": 1,
   "nav_menu": {},
   "number_sections": true,
   "sideBar": true,
   "skip_h1_title": true,
   "title_cell": "Table of Contents",
   "title_sidebar": "Contents",
   "toc_cell": false,
   "toc_position": {},
   "toc_section_display": true,
   "toc_window_display": false
  },
  "varInspector": {
   "cols": {
    "lenName": 16,
    "lenType": 16,
    "lenVar": 40
   },
   "kernels_config": {
    "python": {
     "delete_cmd_postfix": "",
     "delete_cmd_prefix": "del ",
     "library": "var_list.py",
     "varRefreshCmd": "print(var_dic_list())"
    },
    "r": {
     "delete_cmd_postfix": ") ",
     "delete_cmd_prefix": "rm(",
     "library": "var_list.r",
     "varRefreshCmd": "cat(var_dic_list()) "
    }
   },
   "types_to_exclude": [
    "module",
    "function",
    "builtin_function_or_method",
    "instance",
    "_Feature"
   ],
   "window_display": false
  }
 },
 "nbformat": 4,
 "nbformat_minor": 4
}
